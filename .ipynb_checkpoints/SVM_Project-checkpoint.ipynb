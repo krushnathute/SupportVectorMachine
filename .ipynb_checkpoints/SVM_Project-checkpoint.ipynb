{
 "cells": [
  {
   "cell_type": "markdown",
   "id": "57621b84",
   "metadata": {},
   "source": [
    "# 1.Introduction"
   ]
  },
  {
   "cell_type": "markdown",
   "id": "faddb5ec",
   "metadata": {},
   "source": [
    "# 2.Theory"
   ]
  },
  {
   "cell_type": "markdown",
   "id": "868b8c40",
   "metadata": {},
   "source": [
    "# 3.Implementation"
   ]
  },
  {
   "cell_type": "markdown",
   "id": "1b1ef898",
   "metadata": {},
   "source": [
    "# 4.Advantages and Disadvantages"
   ]
  },
  {
   "cell_type": "markdown",
   "id": "5c54c67f",
   "metadata": {},
   "source": [
    "# 5.Example/Case Study"
   ]
  },
  {
   "cell_type": "markdown",
   "id": "3b66af03",
   "metadata": {},
   "source": [
    "# 6.Tips and Tricks"
   ]
  },
  {
   "cell_type": "markdown",
   "id": "c712c01d",
   "metadata": {},
   "source": [
    "# 7.Conclusion"
   ]
  }
 ],
 "metadata": {
  "kernelspec": {
   "display_name": "Python 3 (ipykernel)",
   "language": "python",
   "name": "python3"
  },
  "language_info": {
   "codemirror_mode": {
    "name": "ipython",
    "version": 3
   },
   "file_extension": ".py",
   "mimetype": "text/x-python",
   "name": "python",
   "nbconvert_exporter": "python",
   "pygments_lexer": "ipython3",
   "version": "3.11.5"
  }
 },
 "nbformat": 4,
 "nbformat_minor": 5
}
